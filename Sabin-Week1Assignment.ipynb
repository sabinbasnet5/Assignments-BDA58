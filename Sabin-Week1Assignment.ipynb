{
 "cells": [
  {
   "cell_type": "markdown",
   "id": "6bb4c595-1d0c-41e7-87b6-abbf54a0c1f7",
   "metadata": {},
   "source": [
    "# Python Interview Questions and Solutions"
   ]
  },
  {
   "cell_type": "markdown",
   "id": "17b63550-6c01-4795-8855-76d6fa7ab31e",
   "metadata": {},
   "source": [
    "**1. Scenario: You have a list of integers, and you need to find the maximum\n",
    "value in the list.\n",
    "    a. Question: How would you find the maximum value from the\n",
    "following list?**\n"
   ]
  },
  {
   "cell_type": "markdown",
   "id": "a6cbbc50-07d0-4a5b-83f7-85503ae33844",
   "metadata": {},
   "source": [
    "To find the maximum value in the list, I will use the inbuilt max() function and another way to get the maximum value is by using the loop to compare the value manually from the list. Both example is given below."
   ]
  },
  {
   "cell_type": "code",
   "execution_count": 1,
   "id": "3373832d-a75c-4b2d-bf48-10bff5491c90",
   "metadata": {},
   "outputs": [
    {
     "name": "stdout",
     "output_type": "stream",
     "text": [
      "200\n"
     ]
    }
   ],
   "source": [
    "#  using the in-built max() function to find the maximum value from the list\n",
    "numbers = [1, 30, 50, 20, 100, 200]\n",
    "max_value = max(numbers)\n",
    "print(max_value)"
   ]
  },
  {
   "cell_type": "code",
   "execution_count": 2,
   "id": "cc9ceddd-616c-4361-aa38-5669dad790bd",
   "metadata": {},
   "outputs": [
    {
     "name": "stdout",
     "output_type": "stream",
     "text": [
      "Maximum number from the list is:  200\n"
     ]
    }
   ],
   "source": [
    "# Use the if else statement to find the maximum value from the list\n",
    "num = [1, 30, 50, 20, 100, 200]\n",
    "max_value = num[0] # First assuming that the first element in the is the largest\n",
    "for number in num:\n",
    "    if number > max_value:\n",
    "        max_value = number\n",
    "print(\"Maximum number from the list is: \", max_value)"
   ]
  },
  {
   "cell_type": "markdown",
   "id": "56ce0459-0940-444a-a923-c54a0b865b97",
   "metadata": {},
   "source": [
    "**2. Scenario: You need to concatenate a list of strings into a single string,\n",
    "with each string separated by a comma.\n",
    "a. Question: How would you combine the following list of strings into\n",
    "a single string?**"
   ]
  },
  {
   "cell_type": "markdown",
   "id": "4fdf50b8-6507-4a02-8d12-cf18765df779",
   "metadata": {},
   "source": [
    "In string there is a method called join() which helps to joins all the strings from the list.  I will use join() methods to join strings from the list. Example is given below:"
   ]
  },
  {
   "cell_type": "code",
   "execution_count": 3,
   "id": "c73dd946-6831-4bb3-9d16-312729e6b075",
   "metadata": {},
   "outputs": [
    {
     "name": "stdout",
     "output_type": "stream",
     "text": [
      "Sam, Paul, Jordan, Jonny, Chris\n"
     ]
    }
   ],
   "source": [
    "#Example of concatenating a list of strings into a single string using join methods\n",
    "listOfString = [\"Sam\", \"Paul\", \"Jordan\", \"Jonny\", \"Chris\"]\n",
    "concatenateString = \", \".join(listOfString)\n",
    "print(concatenateString)"
   ]
  },
  {
   "cell_type": "markdown",
   "id": "589550c3-22f9-4067-893a-9df217beb28f",
   "metadata": {},
   "source": [
    "**3. Scenario: You have a dictionary where the keys are names and the\n",
    "values are ages. You need to retrieve the age of a specific person.\n",
    "a. Question: How would you get the age of \"Dev\" from the following\n",
    "dictionary?**"
   ]
  },
  {
   "cell_type": "markdown",
   "id": "361b876f-44de-449e-b7f5-60e2060e958d",
   "metadata": {},
   "source": [
    "To retrive the age of a specific person we can use their name as a key. To get the age of Dev from the dictionary we can retrive age using Dev as a key. Example is given below."
   ]
  },
  {
   "cell_type": "code",
   "execution_count": 4,
   "id": "d4352712-a55b-49aa-804c-e5fd4c00a94d",
   "metadata": {},
   "outputs": [
    {
     "name": "stdout",
     "output_type": "stream",
     "text": [
      "Dev age is:  20\n"
     ]
    }
   ],
   "source": [
    "#Dictionary where keys are names and ages are values\n",
    "ages = {\"Sam\": 14, \"Dev\": 20, \"Jordan\": 25, \"Paul\": 18,\"Chris\": 30}\n",
    "personAge = ages[\"Dev\"] #retriving Dev age passing Dev as key\n",
    "print(\"Dev age is: \", personAge)"
   ]
  },
  {
   "cell_type": "markdown",
   "id": "5decf5a1-b36d-432c-9099-7337913ffbc5",
   "metadata": {},
   "source": [
    "**4. Scenario: You need to remove duplicate elements from a list while\n",
    "preserving the original order of elements.\n",
    "a. Question: How would you remove duplicates from the following\n",
    "list?**"
   ]
  },
  {
   "cell_type": "markdown",
   "id": "499cbe72-c090-4c6f-acb9-771877255ffc",
   "metadata": {},
   "source": [
    "To remove duplicate elements from a list while preserving the original order of elements we can use a set to track the elements because duplicate is not allowed in the set and loop to iterate those lists of sets. An example is given below:"
   ]
  },
  {
   "cell_type": "code",
   "execution_count": 5,
   "id": "e9df9847-ed24-4fc1-8b93-785cf9546d0d",
   "metadata": {},
   "outputs": [
    {
     "name": "stdout",
     "output_type": "stream",
     "text": [
      "New number on the List:  [1, 2, 3, 4, 5, 6, 7, 8, 9, 10]\n"
     ]
    }
   ],
   "source": [
    "numberOfList = [1,1,2,2,3,3,3,4,5,5,6,7,8,9,9,9,9,9,10,10,1,6,5]\n",
    "\n",
    "#Removing duplicates while preserving the original order of element\n",
    "seenNumbers = set()\n",
    "newNumberOfList = []\n",
    "for number in numberOfList:\n",
    "    if number not in seenNumbers:\n",
    "        newNumberOfList.append(number)\n",
    "        seenNumbers.add(number)\n",
    "print(\"New number on the List: \", newNumberOfList)\n"
   ]
  },
  {
   "cell_type": "markdown",
   "id": "1c08bb3e-4999-4172-a2f8-a80e0e4f5c4c",
   "metadata": {},
   "source": [
    "**5. Scenario: You have a NumPy array and need to compute the sum of all\n",
    "its elements.\n",
    "a. Question: How would you find the sum of elements in the\n",
    "following NumPy array?**"
   ]
  },
  {
   "cell_type": "markdown",
   "id": "cf8ffc00-f3f1-4cae-9692-9014a87588af",
   "metadata": {},
   "source": [
    "In numPy library we can find the sum() function which we can use to find the sum of numpy array. Example is given nelow"
   ]
  },
  {
   "cell_type": "code",
   "execution_count": 6,
   "id": "aa8f6991-a7d6-4f59-ba26-b592391e7884",
   "metadata": {},
   "outputs": [
    {
     "name": "stdout",
     "output_type": "stream",
     "text": [
      "Total Sum:  210\n"
     ]
    }
   ],
   "source": [
    "import numpy as np\n",
    "#Numpy array\n",
    "numpyArray = np.array([10, 30, 40, 50,  80])\n",
    "totalSum = np.sum(numpyArray)\n",
    "print(\"Total Sum: \", totalSum)"
   ]
  },
  {
   "cell_type": "markdown",
   "id": "b5329148-d068-4690-9b00-bc4c3dd4655e",
   "metadata": {},
   "source": [
    "**6. Scenario: You have a 2D NumPy array and need to get the maximum\n",
    "value from each column.\n",
    "a. Question: How would you find the maximum values for each\n",
    "column in the following array?**"
   ]
  },
  {
   "cell_type": "markdown",
   "id": "1c738241-6c0d-4b1a-82d1-b567d5eb90c8",
   "metadata": {},
   "source": [
    "In NumPy we can use the numpy.max() function with axis parameter to find the maximum value from each column. Example is given below:"
   ]
  },
  {
   "cell_type": "code",
   "execution_count": 7,
   "id": "6329bce7-27fd-4c6f-a1de-1b9deb203a34",
   "metadata": {},
   "outputs": [
    {
     "name": "stdout",
     "output_type": "stream",
     "text": [
      "The maximum values for each column in the array is:  [5 5 5]\n"
     ]
    }
   ],
   "source": [
    "import numpy as np\n",
    "#2D Numpy Array\n",
    "numpyArray = np.array([[1,2,3], [3,4,5], [5,5,5]])\n",
    "maximumValue = np.max(numpyArray, axis=0)\n",
    "print(\"The maximum values for each column in the array is: \", maximumValue)"
   ]
  },
  {
   "cell_type": "markdown",
   "id": "24ee1191-746f-45f9-8ad6-9cf2735eb4f3",
   "metadata": {},
   "source": [
    "**7. Scenario: You have a DataFrame and need to sort it by a specific column.\n",
    "a. Question: How would you sort the DataFrame by the \"Age\"\n",
    "column?**"
   ]
  },
  {
   "cell_type": "markdown",
   "id": "79bdc6a0-e002-4fec-9aed-9eadfa9db899",
   "metadata": {},
   "source": [
    "To sort a DataFrame by a specific column we can use sortValues() function that is provided by pandas library. For example:"
   ]
  },
  {
   "cell_type": "code",
   "execution_count": 14,
   "id": "07c61f48-7642-497d-970a-26b2f7e920b8",
   "metadata": {},
   "outputs": [
    {
     "name": "stdout",
     "output_type": "stream",
     "text": [
      "     Name  Age    Country\n",
      "0     Sam   14    Denmark\n",
      "2  Jordan   18      India\n",
      "4   Chris   20    England\n",
      "1    Paul   25  Australia\n",
      "3   Jonny   30        USA\n"
     ]
    }
   ],
   "source": [
    "import pandas as pd\n",
    "#DataFrame\n",
    "data = {\"Name\": [\"Sam\", \"Paul\", \"Jordan\", \"Jonny\", \"Chris\"],\n",
    "        \"Age\" : [14, 25, 18, 30, 20],\n",
    "        \"Country\": [\"Denmark\", \"Australia\", \"India\", \"USA\", \"England\"]}\n",
    "dataFrame = pd.DataFrame(data)\n",
    "sortedDataframe = dataFrame.sort_values(by=\"Age\")\n",
    "print(sortedDataframe)"
   ]
  },
  {
   "cell_type": "markdown",
   "id": "72612303-cbc5-4e41-ba65-8b536d6eda9e",
   "metadata": {},
   "source": [
    "**8. Scenario: You need to calculate the total sum of a column in a\n",
    "DataFrame.\n",
    "a. Question: How would you find the sum of the \"Sales\" column?**"
   ]
  },
  {
   "cell_type": "markdown",
   "id": "ddd2dfdf-8b86-45f7-a018-10f750725853",
   "metadata": {},
   "source": [
    "In pandas library it provides the sum() function which we can use to find the sum of the sale column. For example:"
   ]
  },
  {
   "cell_type": "code",
   "execution_count": 16,
   "id": "09352330-9caf-4385-a457-a90e4c1ec674",
   "metadata": {},
   "outputs": [
    {
     "name": "stdout",
     "output_type": "stream",
     "text": [
      "Total Sum:  240\n"
     ]
    }
   ],
   "source": [
    "import pandas as pd\n",
    "#Sales Dataframe\n",
    "data = {\n",
    "        \"Product\": [\"Electronics\", \"Groceries\", \"Clothings\", \"Stationery\"],\n",
    "        \"Sales\" : [20, 40, 80, 100]\n",
    "}\n",
    "dataFrame = pd.DataFrame(data)\n",
    "#calculating the total sum of the sales column\n",
    "totalSum = dataFrame[\"Sales\"].sum()\n",
    "print(\"Total Sum: \", totalSum)"
   ]
  },
  {
   "cell_type": "markdown",
   "id": "4ad00e03-5e7b-4b6e-92e7-bb74f3e20c27",
   "metadata": {},
   "source": [
    "**9. Scenario: You need to check if a variable is of type int.\n",
    "a. Question: How would you verify if a variable x is an integer?**"
   ]
  },
  {
   "cell_type": "markdown",
   "id": "a1d4428e-fd10-4fcb-a29a-e7cff9716824",
   "metadata": {},
   "source": [
    "We can simly use the type() function to check the type of the variable. For example:"
   ]
  },
  {
   "cell_type": "code",
   "execution_count": 10,
   "id": "e088ae94-25d2-4ef2-b357-a03478b91805",
   "metadata": {},
   "outputs": [
    {
     "name": "stdout",
     "output_type": "stream",
     "text": [
      "<class 'float'>\n"
     ]
    }
   ],
   "source": [
    "x = 20\n",
    "#checking the type of the variable\n",
    "print(type(x))"
   ]
  },
  {
   "cell_type": "markdown",
   "id": "f24c2a5f-13a1-4123-9703-dda5a2e4b12e",
   "metadata": {},
   "source": [
    "**10. Scenario: You have a list of mixed types and need to create separate lists\n",
    "for integers, floats, and strings.\n",
    "a. Question: How would you categorize the following mixed list into\n",
    "different types?**"
   ]
  },
  {
   "cell_type": "markdown",
   "id": "6289b32e-4fd1-484d-a7ae-53cb8fb5f52c",
   "metadata": {},
   "source": [
    "To categorize the mixed list into different types we can iterate through the list and check the type of each elements using type() function. Example is given below:"
   ]
  },
  {
   "cell_type": "code",
   "execution_count": 11,
   "id": "834cadc2-7f67-407d-b93f-d3942e9b869d",
   "metadata": {},
   "outputs": [
    {
     "name": "stdout",
     "output_type": "stream",
     "text": [
      "Integer:  [1, 2, 6, 8, 10]\n",
      "floats:  [3.5, 4.1, 9.8]\n",
      "strings:  ['Jordan', 'Paul', 'Chris']\n"
     ]
    }
   ],
   "source": [
    "mixedList = [1,2,3.5, 4.1, 6, 8, \"Jordan\", 10, \"Paul\", 9.8, \"Chris\"]\n",
    "#initilize the empty list for each type\n",
    "integers = []\n",
    "floats = []\n",
    "strings = []\n",
    "#iterate the each elements and categorize them using type function\n",
    "for item in mixedList:\n",
    "    if type(item) is int:\n",
    "        integers.append(item)\n",
    "    elif type(item) is float:\n",
    "        floats.append(item)\n",
    "    elif type(item) is str:\n",
    "        strings.append(item)\n",
    "print(\"Integer: \", integers)\n",
    "print(\"floats: \", floats)\n",
    "print(\"strings: \", strings)\n",
    "\n",
    "\n",
    "        \n"
   ]
  },
  {
   "cell_type": "markdown",
   "id": "6f15b29c-4f8f-4bf2-ac94-d321937e83f2",
   "metadata": {},
   "source": [
    "**11. Scenario: You are given a string of comma-separated numbers. You\n",
    "need to convert this string into a list of integers.\n",
    "a. Question: How would you achieve this conversion?**"
   ]
  },
  {
   "cell_type": "markdown",
   "id": "b340a865-f017-46f7-99ee-4dbbc4d301d7",
   "metadata": {},
   "source": [
    "We can use the split() method in the string to separate the numbers into a list of substrings using commas and After splitting them we can convert each substring into an integer. An example is given below:"
   ]
  },
  {
   "cell_type": "code",
   "execution_count": 13,
   "id": "1d005a71-200d-4d39-a6d3-8291b53f81a5",
   "metadata": {},
   "outputs": [
    {
     "name": "stdout",
     "output_type": "stream",
     "text": [
      "['1', '2', '3', '5', '8', '30', '10', '209']\n",
      "[1, 2, 3, 5, 8, 30, 10, 209]\n"
     ]
    }
   ],
   "source": [
    "strOfNum = \"1,2,3,5,8,30,10,209\"\n",
    "#Splitting strings using comma into a list of substring\n",
    "stringList = strOfNum.split(\",\")\n",
    "print (stringList) #printing string list\n",
    "\n",
    "#Converting each substring to integer\n",
    "integerList = [int(num) for num in stringList]\n",
    "print(integerList)"
   ]
  },
  {
   "cell_type": "markdown",
   "id": "15663ba7-f7f6-4929-ac5b-9f100e7126a0",
   "metadata": {},
   "source": [
    "**12. Scenario: You need to reverse the words in a sentence while keeping the\n",
    "order of the words intact.\n",
    "a. Question: How would you reverse each word in the following\n",
    "sentence?**"
   ]
  },
  {
   "cell_type": "markdown",
   "id": "d57f96a3-812c-47c2-a868-1be700095690",
   "metadata": {},
   "source": [
    "To reverse each word in the sentence by keeping the order of the words first, we need to split the sentence using the split() method in the string, then reverse them using slicing, and Lastly join all the split strings together in a single string using join() function. An example is given below:"
   ]
  },
  {
   "cell_type": "code",
   "execution_count": 18,
   "id": "875d896a-55bf-4288-bbb6-cb67206b7622",
   "metadata": {},
   "outputs": [
    {
     "name": "stdout",
     "output_type": "stream",
     "text": [
      "!olleH I ma nibaS\n"
     ]
    }
   ],
   "source": [
    "sentence = \" Hello! I am Sabin\"\n",
    "#splitting the string\n",
    "splitString = sentence.split()\n",
    "#reverse each word from the split string\n",
    "reverseString = [string[::-1] for string in splitString] #iterate over each words in the list and reverse it by slicing\n",
    "#joining the split string together in one string\n",
    "joinString = \" \".join(reverseString)\n",
    "print(joinString)"
   ]
  },
  {
   "cell_type": "markdown",
   "id": "30d48666-c854-425b-928c-e1cdb15bf6b4",
   "metadata": {},
   "source": [
    "**13.Scenario: You need to combine two lists into a dictionary where the\n",
    "elements of the first list are keys and the elements of the second list are\n",
    "values.\n",
    "a. Question: How would you combine the following lists into a\n",
    "dictionary?**"
   ]
  },
  {
   "cell_type": "markdown",
   "id": "c2442db5-6ebc-450c-89b2-58bcd88baf32",
   "metadata": {},
   "source": [
    "We can use the zip() function along with dict() to combine the lists into a dictionary. zip() function helps to pair elements from two lists. For example"
   ]
  },
  {
   "cell_type": "code",
   "execution_count": 19,
   "id": "54e1aec4-6e9e-4d9d-ad27-cc3094fb62db",
   "metadata": {},
   "outputs": [
    {
     "name": "stdout",
     "output_type": "stream",
     "text": [
      "Combined Dictionary: {'name': 'Jordan', 'age': 20, 'city': 'Saint Paul'}\n"
     ]
    }
   ],
   "source": [
    "# Two diff lists\n",
    "keys = ['name', 'age', 'city']\n",
    "values = ['Jordan', 20, 'Saint Paul']\n",
    "\n",
    "# Combine the lists into a dictionary\n",
    "combinedDict = dict(zip(keys, values))\n",
    "\n",
    "print(\"Combined Dictionary:\", combinedDict)\n"
   ]
  },
  {
   "cell_type": "markdown",
   "id": "cc7bff14-e482-4cff-92c6-ea7b408f084a",
   "metadata": {},
   "source": [
    "**14. Scenario: You are given a list of tuples where each tuple contains a name\n",
    "and an age. You need to sort this list by age.\n",
    "a. Question: How would you sort the following list of tuples by age?**"
   ]
  },
  {
   "cell_type": "markdown",
   "id": "04db0147-92d0-4704-a8d0-87ebcb8aacbe",
   "metadata": {},
   "source": [
    "We can use itemgetter opoerater and sorted function to sort the list of tuple by age. Item getter is the function that creates a callable that retrives the element at index of each tuple."
   ]
  },
  {
   "cell_type": "code",
   "execution_count": 20,
   "id": "e2ca51ed-16d6-42f6-b2fc-c36ec79f02c5",
   "metadata": {},
   "outputs": [
    {
     "name": "stdout",
     "output_type": "stream",
     "text": [
      "List sorted by age: [('Chris', 18), ('Jordan', 25), ('Paul', 30), ('David', 42)]\n"
     ]
    }
   ],
   "source": [
    "from operator import itemgetter\n",
    "\n",
    "# list of tuples\n",
    "tuple = [('Jordan', 25), ('Chris', 18), ('Paul', 30), ('David', 42)]\n",
    "\n",
    "# Sort the list of tuples by age using itemgetter\n",
    "sortedTuple = sorted(tuple, key=itemgetter(1))\n",
    "\n",
    "print(\"List sorted by age:\", sortedTuple)\n"
   ]
  },
  {
   "cell_type": "markdown",
   "id": "fbfa21a6-b8ff-4781-bdbf-1c1b84f9ad58",
   "metadata": {},
   "source": [
    "**15. Scenario: You have a 2D NumPy array and need to calculate the mean\n",
    "value of each row.\n",
    "a. Question: How would you compute the mean value for each row\n",
    "in the following array?**"
   ]
  },
  {
   "cell_type": "markdown",
   "id": "b02a6358-616f-4053-9f33-d4d0bf89effe",
   "metadata": {},
   "source": [
    "To compute the mean value for each row in the given array, we can use numpy.mean() function with the axis parameter set to 1. Axis parameter specify that which axis to operate along from the 2D array and keeping axis '1' indicates thar the operation should be performed accross columns. For example:"
   ]
  },
  {
   "cell_type": "code",
   "execution_count": 22,
   "id": "7156b00d-984e-40d3-a687-2d3c4e14c84f",
   "metadata": {},
   "outputs": [
    {
     "name": "stdout",
     "output_type": "stream",
     "text": [
      "Mean value of each row: [ 2.66666667  6.33333333 14.33333333]\n"
     ]
    }
   ],
   "source": [
    "import numpy as np\n",
    "\n",
    "#  2D NumPy array\n",
    "numpyArray = np.array([\n",
    "    [1, 2, 5],\n",
    "    [5, 6, 8],\n",
    "    [11, 12, 20]\n",
    "])\n",
    "\n",
    "# Compute the mean value for each row\n",
    "rowMeans = np.mean(numpyArray, axis=1)\n",
    "\n",
    "print(\"Mean value of each row:\", rowMeans)\n"
   ]
  },
  {
   "cell_type": "markdown",
   "id": "812cbcc3-1023-4aed-90df-a81e4f7f1e1d",
   "metadata": {},
   "source": [
    "**16. Scenario: You need to create a NumPy array of size 10 filled with zeros,\n",
    "and then set the fifth element to 5.\n",
    "a. Question: How would you create and modify the array as\n",
    "described?**"
   ]
  },
  {
   "cell_type": "markdown",
   "id": "12e91163-3ad8-4fd6-9d5f-e120f6a8d132",
   "metadata": {},
   "source": [
    "We can use numpy.zeros() to create the array with zeros and assig the value at 4th index since  in array it starts with 0 index. For example:"
   ]
  },
  {
   "cell_type": "code",
   "execution_count": 24,
   "id": "a52acf13-7f25-421a-b98d-4c906ed9a5ad",
   "metadata": {},
   "outputs": [
    {
     "name": "stdout",
     "output_type": "stream",
     "text": [
      "[0. 0. 0. 0. 0. 0. 0. 0. 0. 0.]\n",
      "Modified array: [0. 0. 0. 0. 5. 0. 0. 0. 0. 0.]\n"
     ]
    }
   ],
   "source": [
    "import numpy as np\n",
    "\n",
    "#Creating a NumPy array of size 10 filled with zeros\n",
    "array = np.zeros(10)\n",
    "print(array) #printing the array with 10 zeros\n",
    "\n",
    "#assigning the fifth element to 5\n",
    "array[4] = 5\n",
    "\n",
    "print(\"Modified array:\", array)"
   ]
  },
  {
   "cell_type": "markdown",
   "id": "7e172b0c-457e-4648-abe2-06d52c10607d",
   "metadata": {},
   "source": [
    "**17. Scenario: You have a DataFrame and need to find the median of a\n",
    "numeric column.\n",
    "a. Question: How would you find the median of the \"Scores\" column\n",
    "in the following DataFrame?**"
   ]
  },
  {
   "cell_type": "markdown",
   "id": "64c27def-040d-4956-bc4b-0e3f1732301c",
   "metadata": {},
   "source": [
    "We can use median() method provided by pandas to find the median of the scores column from the Dataframe. For example:"
   ]
  },
  {
   "cell_type": "code",
   "execution_count": 25,
   "id": "36fbd93d-316d-4dc6-9266-a07e7e89306a",
   "metadata": {},
   "outputs": [
    {
     "name": "stdout",
     "output_type": "stream",
     "text": [
      "Median Score:  60.0\n"
     ]
    }
   ],
   "source": [
    "import pandas as pd\n",
    "# Dataframe\n",
    "data = {\n",
    "        \"Name\": [\"Jordan\", \"Paul\", \"Chris\", \"Dev\"],\n",
    "        \"Scores\" : [20, 40, 80, 100]\n",
    "}\n",
    "dataFrame = pd.DataFrame(data)\n",
    "#calculating the median of the scores column\n",
    "medianScore = dataFrame[\"Scores\"].median()\n",
    "print(\"Median Score: \", medianScore)"
   ]
  },
  {
   "cell_type": "markdown",
   "id": "44fc21b8-ce3b-4d70-8e27-d91f3da71420",
   "metadata": {},
   "source": [
    "**18. Scenario: You need to filter rows where the value in the \"Sales\" column\n",
    "is above 100 and then sort these rows by \"Date\" in descending order.\n",
    "a. Question: How would you filter and sort the DataFrame based on\n",
    "the given criteria?**"
   ]
  },
  {
   "cell_type": "markdown",
   "id": "d3cf48bc-6a76-405a-b057-352316f19058",
   "metadata": {},
   "source": [
    "We can use filtering and sorting methods provide by pandas to filter and sort the dataframe based on given criteria. An example is given below:"
   ]
  },
  {
   "cell_type": "code",
   "execution_count": 32,
   "id": "c4527524-17c2-404b-9833-f3b5638f31cc",
   "metadata": {},
   "outputs": [
    {
     "name": "stdout",
     "output_type": "stream",
     "text": [
      "Filtered and sorted DataFrame: \n",
      "        Date  Sales\n",
      "1 2024-08-02    200\n",
      "3 2024-08-04    110\n"
     ]
    }
   ],
   "source": [
    "import pandas as pd\n",
    "\n",
    "# DataFrame\n",
    "data = {\n",
    "    \"Date\": [\"2024-08-01\", \"2024-08-02\", \"2024-08-03\", \"2024-08-04\"],\n",
    "    \"Sales\": [10, 200, 85, 110]\n",
    "}\n",
    "\n",
    "dataFrame = pd.DataFrame(data)\n",
    "\n",
    "# Convert the Date column to DateTime type for accurate sorting\n",
    "dataFrame['Date'] = pd.to_datetime(dataFrame['Date'])\n",
    "\n",
    "#Filter rows where 'Sales' > 100\n",
    "filteredDataframe = dataFrame[dataFrame['Sales'] > 100]\n",
    "\n",
    "# Sort the filtered rows by 'Date' in descending order\n",
    "sorted_filtered_df = filteredDataframe.sort_values(by='Date', ascending=False)\n",
    "\n",
    "print(\"Filtered and sorted DataFrame: \")\n",
    "print(filteredDataframe)\n"
   ]
  },
  {
   "cell_type": "markdown",
   "id": "db0a76bf-41ab-4f10-9e86-35e69fe67b1f",
   "metadata": {},
   "source": [
    "**19. Scenario: You have a string containing a number and need to convert it\n",
    "to an integer. Additionally, handle the case where the string might not\n",
    "represent a valid integer.\n",
    "a. Question: How would you safely convert the string \"42\" to an\n",
    "integer and handle invalid cases?**"
   ]
  },
  {
   "cell_type": "markdown",
   "id": "233b462c-3b86-4c42-bf22-a93a3cab8509",
   "metadata": {},
   "source": [
    "In this case we can use try-exxept block, this approach allows to attempt the conversion and catch any erriss if the strings is not valid integer. For example: "
   ]
  },
  {
   "cell_type": "code",
   "execution_count": 36,
   "id": "e95d08be-8503-46d0-ad1c-b77fbe43a586",
   "metadata": {},
   "outputs": [
    {
     "name": "stdout",
     "output_type": "stream",
     "text": [
      "Error: The string 'Sabin' is not a valid integer.\n",
      "Valid integer: 20\n",
      "Invalid integer: Sabin\n"
     ]
    }
   ],
   "source": [
    "def convertToInt(x):\n",
    "    try:\n",
    "        # Attempt to convert the string to an integer\n",
    "        return int(x)\n",
    "    except ValueError:\n",
    "        # Handle the case where the string is not a valid integer\n",
    "        print(f\"Error: The string '{x}' is not a valid integer.\")\n",
    "        return None\n",
    "\n",
    "# Example strings\n",
    "validString = \"20\"\n",
    "invalidString = \"Sabin\"\n",
    "\n",
    "# Convert and handle results\n",
    "validInteger = convertToInt(validString)\n",
    "invalidInteger = convertToInt(invalidString)\n",
    "\n",
    "print(\"Valid integer:\", validString)\n",
    "print(\"Invalid integer:\", invalidString)\n"
   ]
  },
  {
   "cell_type": "markdown",
   "id": "5c7f8819-3f50-46c1-8d40-ad3995442b93",
   "metadata": {},
   "source": [
    "**20. Scenario: You have a list containing different data types, and you want\n",
    "to separate out all the strings.\n",
    "a. Question: How would you extract all string elements from the\n",
    "following list?**"
   ]
  },
  {
   "cell_type": "markdown",
   "id": "38ac4a0c-3345-4af8-9f0c-0815ec0c2c11",
   "metadata": {},
   "source": [
    "We can use filter function to extract all string from the list containing different data types. For example:"
   ]
  },
  {
   "cell_type": "code",
   "execution_count": 37,
   "id": "8bfd04d0-3417-46ae-a410-114560a9651c",
   "metadata": {},
   "outputs": [
    {
     "name": "stdout",
     "output_type": "stream",
     "text": [
      "String elements: ['New York', 'Food', 'Dev']\n"
     ]
    }
   ],
   "source": [
    "#  list with different data types\n",
    "mixedList = [45, 'New York', 3.14, 'Food', True, 'Dev', 10, False, 200]\n",
    "\n",
    "# Defining a function to check if an element is a string\n",
    "def isString(element):\n",
    "    return isinstance(element, str)\n",
    "\n",
    "# Extract all string elements using filter and the is_string function\n",
    "stringElements = list(filter(isString, mixedList))\n",
    "\n",
    "print(\"String elements:\", stringElements)\n"
   ]
  }
 ],
 "metadata": {
  "kernelspec": {
   "display_name": "Python 3 (ipykernel)",
   "language": "python",
   "name": "python3"
  },
  "language_info": {
   "codemirror_mode": {
    "name": "ipython",
    "version": 3
   },
   "file_extension": ".py",
   "mimetype": "text/x-python",
   "name": "python",
   "nbconvert_exporter": "python",
   "pygments_lexer": "ipython3",
   "version": "3.11.7"
  }
 },
 "nbformat": 4,
 "nbformat_minor": 5
}
